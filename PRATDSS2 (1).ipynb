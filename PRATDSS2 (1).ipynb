{
 "cells": [
  {
   "cell_type": "code",
   "execution_count": 1,
   "id": "c3beb090-4f9c-4847-baa9-fb018f77cd1e",
   "metadata": {
    "tags": []
   },
   "outputs": [],
   "source": [
    "import pandas as pd"
   ]
  },
  {
   "cell_type": "code",
   "execution_count": 2,
   "id": "e8f3978b-19e0-4a03-9648-4b2a26a7b5f5",
   "metadata": {
    "tags": []
   },
   "outputs": [],
   "source": [
    "df = pd.read_csv(r'C:\\Users\\Admin\\Downloads\\telco_churn (1).csv')"
   ]
  },
  {
   "cell_type": "code",
   "execution_count": 3,
   "id": "bbf23fce-6549-4261-a74c-de33551fbeb5",
   "metadata": {
    "tags": []
   },
   "outputs": [
    {
     "name": "stderr",
     "output_type": "stream",
     "text": [
      "C:\\Users\\Admin\\AppData\\Local\\Temp\\ipykernel_7120\\221858676.py:1: FutureWarning: Series.fillna with 'method' is deprecated and will raise in a future version. Use obj.ffill() or obj.bfill() instead.\n",
      "  df['Total day calls'].fillna(method='ffill',inplace=True)\n"
     ]
    }
   ],
   "source": [
    "df['Total day calls'].fillna(method='ffill',inplace=True)\n"
   ]
  },
  {
   "cell_type": "code",
   "execution_count": 4,
   "id": "55fb6492-2f9e-4a42-8242-edbad1791855",
   "metadata": {
    "tags": []
   },
   "outputs": [
    {
     "data": {
      "text/plain": [
       "State                      0\n",
       "Account length             0\n",
       "Area code                  0\n",
       "International plan         0\n",
       "Voice mail plan            0\n",
       "Number vmail messages      0\n",
       "Total day minutes         10\n",
       "Total day calls            0\n",
       "Total day charge          18\n",
       "Total eve minutes          9\n",
       "Total eve calls            8\n",
       "Total eve charge           0\n",
       "Total night minutes        0\n",
       "Total night calls          1\n",
       "Total night charge         0\n",
       "Total intl minutes         0\n",
       "Total intl calls           0\n",
       "Total intl charge          5\n",
       "Customer service calls     5\n",
       "Churn                      8\n",
       "dtype: int64"
      ]
     },
     "execution_count": 4,
     "metadata": {},
     "output_type": "execute_result"
    }
   ],
   "source": [
    "df.isnull().sum()"
   ]
  },
  {
   "cell_type": "code",
   "execution_count": 5,
   "id": "84c1de9b-233b-4f59-b439-af5a1e8e4f07",
   "metadata": {
    "tags": []
   },
   "outputs": [
    {
     "data": {
      "image/png": "[encoded data removed]",
      "text/plain": [
       "<Figure size 640x480 with 1 Axes>"
      ]
     },
     "metadata": {},
     "output_type": "display_data"
    }
   ],
   "source": [
    "import pandas as pd\n",
    "import matplotlib.pyplot as plt\n",
    "\n",
    "\n",
    "\n",
    "# Extract data from DataFrame\n",
    "data = df['Total day calls']\n",
    "\n",
    "# Create a box plot\n",
    "plt.boxplot(data)\n",
    "\n",
    "# Add labels and title\n",
    "plt.xlabel('Data')\n",
    "plt.ylabel('Values')\n",
    "plt.title('Box plot of Sample Data')\n",
    "\n",
    "# Show the plot\n",
    "plt.show()\n"
   ]
  },
  {
   "cell_type": "code",
   "execution_count": 6,
   "id": "e46e5438-57b3-4ec5-880f-3360462662b7",
   "metadata": {
    "tags": []
   },
   "outputs": [
    {
     "name": "stderr",
     "output_type": "stream",
     "text": [
      "c:\\Users\\Admin\\AppData\\Local\\Programs\\Python\\Python310\\lib\\site-packages\\scipy\\__init__.py:169: UserWarning: A NumPy version >=1.18.5 and <1.26.0 is required for this version of SciPy (detected version 1.26.3\n",
      "  warnings.warn(f\"A NumPy version >={np_minversion} and <{np_maxversion}\"\n"
     ]
    },
    {
     "name": "stdout",
     "output_type": "stream",
     "text": [
      "     State  Account length  Area code International plan Voice mail plan  \\\n",
      "0       KS             128        415                 No             Yes   \n",
      "1       OH             107        415                 No             Yes   \n",
      "2       NJ             137        415                 No              No   \n",
      "3       OH              84        408                Yes              No   \n",
      "4       OK              75        415                Yes              No   \n",
      "...    ...             ...        ...                ...             ...   \n",
      "3328    AZ             192        415                 No             Yes   \n",
      "3329    WV              68        415                 No              No   \n",
      "3330    RI              28        510                 No              No   \n",
      "3331    CT             184        510                Yes              No   \n",
      "3332    TN              74        415                 No             Yes   \n",
      "\n",
      "      Number vmail messages  Total day minutes  Total day calls  \\\n",
      "0                        25              265.1            110.0   \n",
      "1                        26              161.6            123.0   \n",
      "2                         0              243.4            114.0   \n",
      "3                         0              299.4             71.0   \n",
      "4                         0              166.7            113.0   \n",
      "...                     ...                ...              ...   \n",
      "3328                     36              156.2             77.0   \n",
      "3329                      0              231.1             57.0   \n",
      "3330                      0              180.8            109.0   \n",
      "3331                      0              213.8            105.0   \n",
      "3332                     25              234.4            113.0   \n",
      "\n",
      "      Total day charge  Total eve minutes  Total eve calls  Total eve charge  \\\n",
      "0                45.07              197.4             99.0             16.78   \n",
      "1                27.47              195.5            103.0             16.62   \n",
      "2                41.38              121.2            110.0             10.30   \n",
      "3                50.90               61.9             88.0              5.26   \n",
      "4                28.34              148.3            122.0             12.61   \n",
      "...                ...                ...              ...               ...   \n",
      "3328             26.55              215.5            126.0             18.32   \n",
      "3329             39.29              153.4             55.0             13.04   \n",
      "3330             30.74              288.8             58.0             24.55   \n",
      "3331             36.35              159.6             84.0             13.57   \n",
      "3332             39.85              265.9             82.0             22.60   \n",
      "\n",
      "      Total night minutes  Total night calls  Total night charge  \\\n",
      "0                   244.7               91.0               11.01   \n",
      "1                   254.4              103.0               11.45   \n",
      "2                   162.6              104.0                7.32   \n",
      "3                   196.9               89.0                8.86   \n",
      "4                   186.9              121.0                8.41   \n",
      "...                   ...                ...                 ...   \n",
      "3328                279.1               83.0               12.56   \n",
      "3329                191.3              123.0                8.61   \n",
      "3330                191.9               91.0                8.64   \n",
      "3331                139.2              137.0                6.26   \n",
      "3332                241.4               77.0               10.86   \n",
      "\n",
      "      Total intl minutes  Total intl calls  Total intl charge  \\\n",
      "0                   10.0                 3               2.70   \n",
      "1                   13.7                 3               3.70   \n",
      "2                   12.2                 5               3.29   \n",
      "3                    6.6                 7               1.78   \n",
      "4                   10.1                 3               2.73   \n",
      "...                  ...               ...                ...   \n",
      "3328                 9.9                 6               2.67   \n",
      "3329                 9.6                 4               2.59   \n",
      "3330                14.1                 6               3.81   \n",
      "3331                 5.0                10               1.35   \n",
      "3332                13.7                 4               3.70   \n",
      "\n",
      "      Customer service calls  Churn  \n",
      "0                        1.0  False  \n",
      "1                        1.0  False  \n",
      "2                        0.0  False  \n",
      "3                        2.0  False  \n",
      "4                        3.0  False  \n",
      "...                      ...    ...  \n",
      "3328                     2.0  False  \n",
      "3329                     3.0  False  \n",
      "3330                     2.0  False  \n",
      "3331                     2.0  False  \n",
      "3332                     0.0  False  \n",
      "\n",
      "[3324 rows x 20 columns]\n"
     ]
    }
   ],
   "source": [
    "import numpy as np\n",
    "from scipy.stats import zscore\n",
    "from sklearn.preprocessing import PowerTransformer\n",
    "numeric_columns=['Total day calls']\n",
    "z_scores=np.abs(zscore(df[numeric_columns]))\n",
    "df_no_outliers=df[(z_scores<3).all(axis=1)]\n",
    "print(df_no_outliers)\n",
    "power_transformer = PowerTransformer()\n"
   ]
  },
  {
   "cell_type": "code",
   "execution_count": 7,
   "id": "7a5203a6-6840-4034-8d85-9c1285262921",
   "metadata": {
    "tags": []
   },
   "outputs": [
    {
     "data": {
      "image/png": "[encoded data removed]",
      "text/plain": [
       "<Figure size 640x480 with 1 Axes>"
      ]
     },
     "metadata": {},
     "output_type": "display_data"
    }
   ],
   "source": [
    "import pandas as pd\n",
    "import matplotlib.pyplot as plt\n",
    "\n",
    "\n",
    "\n",
    "# Extract data from DataFrame\n",
    "data = df_no_outliers['Total day calls']\n",
    "\n",
    "# Create a box plot\n",
    "plt.boxplot(data)\n",
    "\n",
    "# Add labels and title\n",
    "plt.xlabel('Data')\n",
    "plt.ylabel('Values')\n",
    "plt.title('Box plot of Sample Data')\n",
    "\n",
    "# Show the plot\n",
    "plt.show()\n"
   ]
  },
  {
   "cell_type": "code",
   "execution_count": 8,
   "id": "9524edd8-a495-4533-856e-2ca65f3fc097",
   "metadata": {
    "tags": []
   },
   "outputs": [
    {
     "name": "stdout",
     "output_type": "stream",
     "text": [
      "\n",
      "Transformed Dataset:\n",
      "      Total day calls\n",
      "0               110.0\n",
      "1               123.0\n",
      "2               114.0\n",
      "3                71.0\n",
      "4               113.0\n",
      "...               ...\n",
      "3328             77.0\n",
      "3329             57.0\n",
      "3330            109.0\n",
      "3331            105.0\n",
      "3332            113.0\n",
      "\n",
      "[3324 rows x 1 columns]\n"
     ]
    },
    {
     "name": "stderr",
     "output_type": "stream",
     "text": [
      "C:\\Users\\Admin\\AppData\\Local\\Temp\\ipykernel_7120\\2557774902.py:1: SettingWithCopyWarning: \n",
      "A value is trying to be set on a copy of a slice from a DataFrame.\n",
      "Try using .loc[row_indexer,col_indexer] = value instead\n",
      "\n",
      "See the caveats in the documentation: https://pandas.pydata.org/pandas-docs/stable/user_guide/indexing.html#returning-a-view-versus-a-copy\n",
      "  df_no_outliers['transformmed'] = power_transformer.fit_transform(df_no_outliers[['Total day calls']])\n"
     ]
    }
   ],
   "source": [
    "df_no_outliers['transformmed'] = power_transformer.fit_transform(df_no_outliers[['Total day calls']])\n",
    "print(\"\\nTransformed Dataset:\")\n",
    "print(df_no_outliers[['Total day calls']])\n"
   ]
  },
  {
   "cell_type": "code",
   "execution_count": 9,
   "id": "73467300-913b-4b1c-be2e-f2db5a23dc81",
   "metadata": {
    "tags": []
   },
   "outputs": [
    {
     "data": {
      "text/plain": [
       "(array([ 13.,  18.,  39.,  76., 106., 149., 244., 306., 365., 386., 409.,\n",
       "        346., 287., 235., 134.,  90.,  64.,  38.,  13.,   6.]),\n",
       " array([-2.94379814, -2.64514299, -2.34648784, -2.04783269, -1.74917754,\n",
       "        -1.45052239, -1.15186724, -0.85321209, -0.55455694, -0.2559018 ,\n",
       "         0.04275335,  0.3414085 ,  0.64006365,  0.9387188 ,  1.23737395,\n",
       "         1.5360291 ,  1.83468425,  2.1333394 ,  2.43199454,  2.73064969,\n",
       "         3.02930484]),\n",
       " <BarContainer object of 20 artists>)"
      ]
     },
     "execution_count": 9,
     "metadata": {},
     "output_type": "execute_result"
    },
    {
     "data": {
      "image/png": "[encoded data removed]",
      "text/plain": [
       "<Figure size 1200x400 with 2 Axes>"
      ]
     },
     "metadata": {},
     "output_type": "display_data"
    }
   ],
   "source": [
    "import matplotlib.pyplot as plt\n",
    "plt.figure(figsize=(12, 4))\n",
    "plt.subplot(1, 2, 1)\n",
    "plt.title('Before Transformation')\n",
    "plt.hist(df_no_outliers['Total day calls'], bins=20, color='blue', alpha=0.7)\n",
    "plt.subplot(1, 2, 2)\n",
    "plt.title('After Transformation')\n",
    "plt.hist(df_no_outliers['transformmed'], bins=20, color='green', alpha=0.7)"
   ]
  },
  {
   "cell_type": "code",
   "execution_count": null,
   "id": "1157e09f-db7b-4c9e-8cb2-3e0ad1753cca",
   "metadata": {},
   "outputs": [],
   "source": []
  },
  {
   "cell_type": "code",
   "execution_count": null,
   "id": "b78ad099",
   "metadata": {},
   "outputs": [],
   "source": []
  }
 ],
 "metadata": {
  "kernelspec": {
   "display_name": "Python 3 (ipykernel)",
   "language": "python",
   "name": "python3"
  },
  "language_info": {
   "codemirror_mode": {
    "name": "ipython",
    "version": 3
   },
   "file_extension": ".py",
   "mimetype": "text/x-python",
   "name": "python",
   "nbconvert_exporter": "python",
   "pygments_lexer": "ipython3",
   "version": "3.10.7"
  }
 },
 "nbformat": 4,
 "nbformat_minor": 5
}
